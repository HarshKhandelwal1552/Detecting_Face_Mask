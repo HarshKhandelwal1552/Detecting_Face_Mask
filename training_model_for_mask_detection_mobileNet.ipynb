{
 "cells": [
  {
   "cell_type": "markdown",
   "metadata": {},
   "source": [
    "# Loading required Libraries"
   ]
  },
  {
   "cell_type": "code",
   "execution_count": 1,
   "metadata": {},
   "outputs": [
    {
     "name": "stderr",
     "output_type": "stream",
     "text": [
      "C:\\Users\\91946\\anaconda3\\envs\\gputest\\lib\\site-packages\\sklearn\\externals\\joblib\\__init__.py:15: FutureWarning: sklearn.externals.joblib is deprecated in 0.21 and will be removed in 0.23. Please import this functionality directly from joblib, which can be installed with: pip install joblib. If this warning is raised when loading pickled models, you may need to re-serialize those models with scikit-learn 0.21+.\n",
      "  warnings.warn(msg, category=FutureWarning)\n"
     ]
    }
   ],
   "source": [
    "import numpy as np\n",
    "import pandas as pd \n",
    "import matplotlib.pyplot as plt \n",
    "import tensorflow as tf \n",
    "from tensorflow.keras.preprocessing.image import ImageDataGenerator\n",
    "from tensorflow.keras.models import Sequential\n",
    "from tensorflow.keras.optimizers import Adam\n",
    "from tensorflow.keras.metrics import Accuracy,AUC\n",
    "from tensorflow.keras.losses import BinaryCrossentropy\n",
    "from tensorflow.keras.layers import Dense, Dropout, Flatten, MaxPooling2D, GlobalAveragePooling2D\n",
    "from tensorflow.keras.callbacks import ModelCheckpoint\n",
    "from sklearn.externals import joblib\n",
    "from sklearn.metrics import confusion_matrix\n",
    "import seaborn as sns  \n",
    "import efficientnet.tfkeras as efn \n",
    "from tensorflow.keras.applications import MobileNetV2"
   ]
  },
  {
   "cell_type": "markdown",
   "metadata": {},
   "source": [
    "# Image Data Augmentation"
   ]
  },
  {
   "cell_type": "code",
   "execution_count": 2,
   "metadata": {},
   "outputs": [],
   "source": [
    "# making distorted data\n",
    "datagen = ImageDataGenerator(\n",
    "        rescale=1./255,\n",
    "        featurewise_center=False,  # set input mean to 0 over the dataset\n",
    "        samplewise_center=False,  # set each sample mean to 0\n",
    "        featurewise_std_normalization=False,  # divide inputs by std of the dataset\n",
    "        samplewise_std_normalization=False,  # divide each input by its std\n",
    "        zca_whitening=False,  # apply ZCA whitening\n",
    "        rotation_range=10,  # randomly rotate images in the range (degrees, 0 to 180)\n",
    "        zoom_range = 0.1, # Randomly zoom image \n",
    "        width_shift_range=0.1,  # randomly shift images horizontally (fraction of total width)\n",
    "        height_shift_range=0.1,  # randomly shift images vertically (fraction of total height)\n",
    "        horizontal_flip=False,  # randomly flip images\n",
    "        vertical_flip=False,\n",
    "        validation_split=0.2)  # randomly flip images"
   ]
  },
  {
   "cell_type": "markdown",
   "metadata": {},
   "source": [
    "Declearing our Base parameters"
   ]
  },
  {
   "cell_type": "code",
   "execution_count": 3,
   "metadata": {},
   "outputs": [],
   "source": [
    "data_dir = 'dataset/'\n",
    "EPOCHS = 100\n",
    "batch_size = 16\n",
    "image_width = 128\n",
    "image_hight = 128\n"
   ]
  },
  {
   "cell_type": "markdown",
   "metadata": {},
   "source": [
    "Image Data loading With flow_from_directory method \n",
    "Spliting the data in two subfolders"
   ]
  },
  {
   "cell_type": "code",
   "execution_count": 4,
   "metadata": {
    "tags": []
   },
   "outputs": [
    {
     "name": "stdout",
     "output_type": "stream",
     "text": [
      "Found 3067 images belonging to 2 classes.\n",
      "Found 766 images belonging to 2 classes.\n"
     ]
    }
   ],
   "source": [
    "train = datagen.flow_from_directory(data_dir,\n",
    "                                    target_size=(image_width,image_hight),\n",
    "                                    class_mode='categorical',\n",
    "                                    batch_size=batch_size,\n",
    "                                    subset='training')\n",
    "val = datagen.flow_from_directory(data_dir,\n",
    "                                    target_size=(image_width,image_hight),\n",
    "                                    class_mode='categorical',\n",
    "                                    batch_size=batch_size,\n",
    "                                    subset='validation')                                   "
   ]
  },
  {
   "cell_type": "markdown",
   "metadata": {},
   "source": [
    "Checking for TPUs or GPUs"
   ]
  },
  {
   "cell_type": "code",
   "execution_count": 5,
   "metadata": {
    "tags": []
   },
   "outputs": [
    {
     "name": "stdout",
     "output_type": "stream",
     "text": [
      "REPLICAS:  1\n"
     ]
    }
   ],
   "source": [
    "# Detect hardware, return appropriate distribution strategy\n",
    "try:\n",
    "    # TPU detection. No parameters necessary if TPU_NAME environment variable is\n",
    "    # set: this is always the case on Kaggle.\n",
    "    tpu = tf.distribute.cluster_resolver.TPUClusterResolver()\n",
    "    print('Running on TPU ', tpu.master())\n",
    "except ValueError:\n",
    "    tpu = None\n",
    "\n",
    "if tpu:\n",
    "    tf.config.experimental_connect_to_cluster(tpu)\n",
    "    tf.tpu.experimental.initialize_tpu_system(tpu)\n",
    "    strategy = tf.distribute.experimental.TPUStrategy(tpu)\n",
    "else:\n",
    "    # Default distribution strategy in Tensorflow. Works on CPU and single GPU.\n",
    "    strategy = tf.distribute.get_strategy()\n",
    "\n",
    "print(\"REPLICAS: \", strategy.num_replicas_in_sync)"
   ]
  },
  {
   "cell_type": "markdown",
   "metadata": {},
   "source": [
    "Creating a Learning Rate Schedular"
   ]
  },
  {
   "cell_type": "code",
   "execution_count": 6,
   "metadata": {
    "tags": []
   },
   "outputs": [
    {
     "name": "stdout",
     "output_type": "stream",
     "text": [
      "Learning rate schedule: 1e-05 to 5e-05 to 1e-05\n"
     ]
    },
    {
     "data": {
      "image/png": "[encoded data removed]",
      "text/plain": [
       "<Figure size 432x288 with 1 Axes>"
      ]
     },
     "metadata": {
      "needs_background": "light"
     },
     "output_type": "display_data"
    }
   ],
   "source": [
    "def build_lrfn(lr_start=0.00001, lr_max=0.00005, \n",
    "               lr_min=0.00001, lr_rampup_epochs=5, \n",
    "               lr_sustain_epochs=0, lr_exp_decay=.8):\n",
    "    lr_max = lr_max * strategy.num_replicas_in_sync\n",
    "\n",
    "    def lrfn(epoch):\n",
    "        if epoch < lr_rampup_epochs:\n",
    "            lr = (lr_max - lr_start) / lr_rampup_epochs * epoch + lr_start\n",
    "        elif epoch < lr_rampup_epochs + lr_sustain_epochs:\n",
    "            lr = lr_max\n",
    "        else:\n",
    "            lr = (lr_max - lr_min) *\\\n",
    "                 lr_exp_decay**(epoch - lr_rampup_epochs\\\n",
    "                                - lr_sustain_epochs) + lr_min\n",
    "        return lr\n",
    "    return lrfn\n",
    "\n",
    "lrfn = build_lrfn()\n",
    "lr_schedule = tf.keras.callbacks.LearningRateScheduler(lrfn, verbose=1)\n",
    "rng = [i for i in range(25 if EPOCHS<25 else EPOCHS)]\n",
    "y = [lrfn(x) for x in rng]\n",
    "plt.plot(rng, y)\n",
    "print(\"Learning rate schedule: {:.3g} to {:.3g} to {:.3g}\".format(y[0], max(y), y[-1]))"
   ]
  },
  {
   "cell_type": "markdown",
   "metadata": {},
   "source": [
    "# EfficientNets"
   ]
  },
  {
   "cell_type": "markdown",
   "metadata": {},
   "source": [
    "Using pre trained Efficient net model for our project. \n",
    "We can also use MobilenetV2  "
   ]
  },
  {
   "cell_type": "raw",
   "metadata": {},
   "source": [
    "baseModel = MobileNetV2(weights=\"imagenet\", include_top=False,\n",
    " input_tensor=Input(shape=(224, 224, 3)))\n",
    "headModel = AveragePooling2D(pool_size=(7, 7))(headModel)\n",
    "headModel = Flatten(name=\"flatten\")(headModel)\n",
    "headModel = Dense(128, activation=\"relu\")(headModel)\n",
    "headModel = Dropout(0.5)(headModel)\n",
    "headModel = Dense(2, activation=\"softmax\")(headModel)"
   ]
  },
  {
   "cell_type": "code",
   "execution_count": 7,
   "metadata": {},
   "outputs": [],
   "source": [
    "\n",
    "def get_model():\n",
    "    with strategy.scope():\n",
    "        model = tf.keras.Sequential([\n",
    "            MobileNetV2(\n",
    "                input_shape=(image_width,image_hight, 3),\n",
    "                weights=\"imagenet\",\n",
    "                include_top=False\n",
    "            ),\n",
    "            tf.keras.layers.GlobalAveragePooling2D(),\n",
    "            tf.keras.layers.Flatten(),\n",
    "            tf.keras.layers.Dense(128, activation = 'relu'),\n",
    "            tf.keras.layers.Dropout(0.2),\n",
    "            tf.keras.layers.Dense(2, activation='sigmoid')\n",
    "        ])\n",
    "        model.compile(\n",
    "            optimizer='adam',\n",
    "            loss = 'categorical_crossentropy',\n",
    "            metrics=[tf.keras.metrics.AUC(),'accuracy'])\n",
    "    \n",
    "    return model"
   ]
  },
  {
   "cell_type": "markdown",
   "metadata": {},
   "source": [
    "Defining callbacks and steps per epochs.\n",
    "Note we have doubled our original dataset, which is being generated by ImageDataGenerator."
   ]
  },
  {
   "cell_type": "code",
   "execution_count": 8,
   "metadata": {},
   "outputs": [],
   "source": [
    "steps_per_epoch_train =  2*( len(train) // batch_size )\n",
    "steps_per_epoch_val = 2* (len(val) // batch_size)\n",
    "\n",
    "callbacks = ModelCheckpoint('saver/v2_mobilenet.h5', monitor='val_loss', verbose=2, save_best_only=True)\n"
   ]
  },
  {
   "cell_type": "code",
   "execution_count": 9,
   "metadata": {},
   "outputs": [],
   "source": [
    "model = get_model()"
   ]
  },
  {
   "cell_type": "code",
   "execution_count": 10,
   "metadata": {
    "tags": []
   },
   "outputs": [
    {
     "name": "stdout",
     "output_type": "stream",
     "text": [
      "Model: \"sequential\"\n",
      "_________________________________________________________________\n",
      "Layer (type)                 Output Shape              Param #   \n",
      "=================================================================\n",
      "mobilenetv2_1.00_128 (Model) (None, 4, 4, 1280)        2257984   \n",
      "_________________________________________________________________\n",
      "global_average_pooling2d (Gl (None, 1280)              0         \n",
      "_________________________________________________________________\n",
      "flatten (Flatten)            (None, 1280)              0         \n",
      "_________________________________________________________________\n",
      "dense (Dense)                (None, 128)               163968    \n",
      "_________________________________________________________________\n",
      "dropout (Dropout)            (None, 128)               0         \n",
      "_________________________________________________________________\n",
      "dense_1 (Dense)              (None, 2)                 258       \n",
      "=================================================================\n",
      "Total params: 2,422,210\n",
      "Trainable params: 2,388,098\n",
      "Non-trainable params: 34,112\n",
      "_________________________________________________________________\n"
     ]
    }
   ],
   "source": [
    "model.summary()"
   ]
  },
  {
   "cell_type": "markdown",
   "metadata": {},
   "source": [
    "# Training the Model"
   ]
  },
  {
   "cell_type": "markdown",
   "metadata": {},
   "source": [
    "Note we will be saving the model weights only on improvement on validation dataset."
   ]
  },
  {
   "cell_type": "code",
   "execution_count": 11,
   "metadata": {
    "tags": [
     "outputPrepend"
    ]
   },
   "outputs": [
    {
     "name": "stdout",
     "output_type": "stream",
     "text": [
      "\n",
      "Epoch 00001: LearningRateScheduler reducing learning rate to 1e-05.\n",
      "Epoch 1/100\n",
      "WARNING:tensorflow:AutoGraph could not transform <function Model.make_train_function.<locals>.train_function at 0x000001D6FEB29E58> and will run it as-is.\n",
      "Please report this to the TensorFlow team. When filing the bug, set the verbosity to 10 (on Linux, `export AUTOGRAPH_VERBOSITY=10`) and attach the full output.\n",
      "Cause: Bad argument number for Name: 4, expecting 3\n",
      "To silence this warning, decorate the function with @tf.autograph.experimental.do_not_convert\n",
      "WARNING: AutoGraph could not transform <function Model.make_train_function.<locals>.train_function at 0x000001D6FEB29E58> and will run it as-is.\n",
      "Please report this to the TensorFlow team. When filing the bug, set the verbosity to 10 (on Linux, `export AUTOGRAPH_VERBOSITY=10`) and attach the full output.\n",
      "Cause: Bad argument number for Name: 4, expecting 3\n",
      "To silence this warning, decorate the function with @tf.autograph.experimental.do_not_convert\n",
      "24/24 [==============================] - ETA: 0s - loss: 0.9139 - auc: 0.5213 - accuracy: 0.5260WARNING:tensorflow:AutoGraph could not transform <function Model.make_test_function.<locals>.test_function at 0x000001D61E4ACB88> and will run it as-is.\n",
      "Please report this to the TensorFlow team. When filing the bug, set the verbosity to 10 (on Linux, `export AUTOGRAPH_VERBOSITY=10`) and attach the full output.\n",
      "Cause: Bad argument number for Name: 4, expecting 3\n",
      "To silence this warning, decorate the function with @tf.autograph.experimental.do_not_convert\n",
      "WARNING: AutoGraph could not transform <function Model.make_test_function.<locals>.test_function at 0x000001D61E4ACB88> and will run it as-is.\n",
      "Please report this to the TensorFlow team. When filing the bug, set the verbosity to 10 (on Linux, `export AUTOGRAPH_VERBOSITY=10`) and attach the full output.\n",
      "Cause: Bad argument number for Name: 4, expecting 3\n",
      "To silence this warning, decorate the function with @tf.autograph.experimental.do_not_convert\n",
      "\n",
      "Epoch 00001: val_loss improved from inf to 0.85441, saving model to saver/v3_mobilenet.h5\n",
      "24/24 [==============================] - 4s 157ms/step - loss: 0.9139 - auc: 0.5213 - accuracy: 0.5260 - val_loss: 0.8544 - val_auc: 0.6526 - val_accuracy: 0.6042 - lr: 1.0000e-05\n",
      "\n",
      "Epoch 00002: LearningRateScheduler reducing learning rate to 1.8000000000000004e-05.\n",
      "Epoch 2/100\n",
      "24/24 [==============================] - ETA: 0s - loss: 0.6694 - auc: 0.6200 - accuracy: 0.5365 ETA: 1s - loss: 0.7221 - \n",
      "Epoch 00002: val_loss improved from 0.85441 to 0.69141, saving model to saver/v3_mobilenet.h5\n",
      "24/24 [==============================] - 3s 130ms/step - loss: 0.6694 - auc: 0.6200 - accuracy: 0.5365 - val_loss: 0.6914 - val_auc: 0.6782 - val_accuracy: 0.5625 - lr: 1.8000e-05\n",
      "\n",
      "Epoch 00003: LearningRateScheduler reducing learning rate to 2.6000000000000002e-05.\n",
      "Epoch 3/100\n",
      "24/24 [==============================] - ETA: 0s - loss: 0.4975 - auc: 0.8063 - accuracy: 0.7734\n",
      "Epoch 00003: val_loss improved from 0.69141 to 0.46584, saving model to saver/v3_mobilenet.h5\n",
      "24/24 [==============================] - 3s 115ms/step - loss: 0.4975 - auc: 0.8063 - accuracy: 0.7734 - val_loss: 0.4658 - val_auc: 0.8413 - val_accuracy: 0.6875 - lr: 2.6000e-05\n",
      "\n",
      "Epoch 00004: LearningRateScheduler reducing learning rate to 3.4000000000000007e-05.\n",
      "Epoch 4/100\n",
      "24/24 [==============================] - ETA: 0s - loss: 0.3730 - auc: 0.9072 - accuracy: 0.8828\n",
      "Epoch 00004: val_loss improved from 0.46584 to 0.37660, saving model to saver/v3_mobilenet.h5\n",
      "24/24 [==============================] - 3s 117ms/step - loss: 0.3730 - auc: 0.9072 - accuracy: 0.8828 - val_loss: 0.3766 - val_auc: 0.8957 - val_accuracy: 0.8229 - lr: 3.4000e-05\n",
      "\n",
      "Epoch 00005: LearningRateScheduler reducing learning rate to 4.2000000000000004e-05.\n",
      "Epoch 5/100\n",
      " 9/24 [==========>...................] - ETA: 1s - loss: 0.2829 - auc: 0.9444 - accuracy: 0.9097"
     ]
    },
    {
     "name": "stderr",
     "output_type": "stream",
     "text": [
      "C:\\Users\\91946\\anaconda3\\envs\\gputest\\lib\\site-packages\\PIL\\Image.py:960: UserWarning: Palette images with Transparency expressed in bytes should be converted to RGBA images\n",
      "  \"Palette images with Transparency expressed in bytes should be \"\n"
     ]
    },
    {
     "name": "stdout",
     "output_type": "stream",
     "text": [
      "24/24 [==============================] - ETA: 0s - loss: 0.2578 - auc: 0.9466 - accuracy: 0.9115\n",
      "Epoch 00005: val_loss did not improve from 0.37660\n",
      "24/24 [==============================] - 3s 121ms/step - loss: 0.2578 - auc: 0.9466 - accuracy: 0.9115 - val_loss: 0.4202 - val_auc: 0.9047 - val_accuracy: 0.8333 - lr: 4.2000e-05\n",
      "\n",
      "Epoch 00006: LearningRateScheduler reducing learning rate to 5e-05.\n",
      "Epoch 6/100\n",
      "24/24 [==============================] - ETA: 0s - loss: 0.1978 - auc: 0.9701 - accuracy: 0.9271\n",
      "Epoch 00006: val_loss improved from 0.37660 to 0.17740, saving model to saver/v3_mobilenet.h5\n",
      "24/24 [==============================] - 3s 119ms/step - loss: 0.1978 - auc: 0.9701 - accuracy: 0.9271 - val_loss: 0.1774 - val_auc: 0.9771 - val_accuracy: 0.9271 - lr: 5.0000e-05\n",
      "\n",
      "Epoch 00007: LearningRateScheduler reducing learning rate to 4.2000000000000004e-05.\n",
      "Epoch 7/100\n",
      "24/24 [==============================] - ETA: 0s - loss: 0.1352 - auc: 0.9867 - accuracy: 0.9505\n",
      "Epoch 00007: val_loss did not improve from 0.17740\n",
      "24/24 [==============================] - 3s 134ms/step - loss: 0.1352 - auc: 0.9867 - accuracy: 0.9505 - val_loss: 0.2874 - val_auc: 0.9470 - val_accuracy: 0.8723 - lr: 4.2000e-05\n",
      "\n",
      "Epoch 00008: LearningRateScheduler reducing learning rate to 3.5600000000000005e-05.\n",
      "Epoch 8/100\n",
      "24/24 [==============================] - ETA: 0s - loss: 0.1288 - auc: 0.9857 - accuracy: 0.9631\n",
      "Epoch 00008: val_loss improved from 0.17740 to 0.14095, saving model to saver/v3_mobilenet.h5\n",
      "24/24 [==============================] - 4s 177ms/step - loss: 0.1288 - auc: 0.9857 - accuracy: 0.9631 - val_loss: 0.1410 - val_auc: 0.9830 - val_accuracy: 0.9479 - lr: 3.5600e-05\n",
      "\n",
      "Epoch 00009: LearningRateScheduler reducing learning rate to 3.0480000000000006e-05.\n",
      "Epoch 9/100\n",
      "24/24 [==============================] - ETA: 0s - loss: 0.0936 - auc: 0.9932 - accuracy: 0.9714\n",
      "Epoch 00009: val_loss improved from 0.14095 to 0.09385, saving model to saver/v3_mobilenet.h5\n",
      "24/24 [==============================] - 3s 114ms/step - loss: 0.0936 - auc: 0.9932 - accuracy: 0.9714 - val_loss: 0.0938 - val_auc: 0.9935 - val_accuracy: 0.9583 - lr: 3.0480e-05\n",
      "\n",
      "Epoch 00010: LearningRateScheduler reducing learning rate to 2.6384000000000004e-05.\n",
      "Epoch 10/100\n",
      "24/24 [==============================] - ETA: 0s - loss: 0.0901 - auc: 0.9929 - accuracy: 0.9740\n",
      "Epoch 00010: val_loss did not improve from 0.09385\n",
      "24/24 [==============================] - 2s 101ms/step - loss: 0.0901 - auc: 0.9929 - accuracy: 0.9740 - val_loss: 0.1244 - val_auc: 0.9862 - val_accuracy: 0.9688 - lr: 2.6384e-05\n",
      "\n",
      "Epoch 00011: LearningRateScheduler reducing learning rate to 2.3107200000000005e-05.\n",
      "Epoch 11/100\n",
      "24/24 [==============================] - ETA: 0s - loss: 0.0714 - auc: 0.9964 - accuracy: 0.9714\n",
      "Epoch 00011: val_loss improved from 0.09385 to 0.08085, saving model to saver/v3_mobilenet.h5\n",
      "24/24 [==============================] - 3s 121ms/step - loss: 0.0714 - auc: 0.9964 - accuracy: 0.9714 - val_loss: 0.0809 - val_auc: 0.9965 - val_accuracy: 0.9688 - lr: 2.3107e-05\n",
      "\n",
      "Epoch 00012: LearningRateScheduler reducing learning rate to 2.0485760000000004e-05.\n",
      "Epoch 12/100\n",
      "24/24 [==============================] - ETA: 0s - loss: 0.0963 - auc: 0.9922 - accuracy: 0.9688\n",
      "Epoch 00012: val_loss improved from 0.08085 to 0.05173, saving model to saver/v3_mobilenet.h5\n",
      "24/24 [==============================] - 3s 110ms/step - loss: 0.0963 - auc: 0.9922 - accuracy: 0.9688 - val_loss: 0.0517 - val_auc: 0.9984 - val_accuracy: 0.9896 - lr: 2.0486e-05\n",
      "\n",
      "Epoch 00013: LearningRateScheduler reducing learning rate to 1.8388608000000004e-05.\n",
      "Epoch 13/100\n",
      "24/24 [==============================] - ETA: 0s - loss: 0.0807 - auc: 0.9946 - accuracy: 0.9688\n",
      "Epoch 00013: val_loss did not improve from 0.05173\n",
      "24/24 [==============================] - 3s 112ms/step - loss: 0.0807 - auc: 0.9946 - accuracy: 0.9688 - val_loss: 0.0988 - val_auc: 0.9934 - val_accuracy: 0.9583 - lr: 1.8389e-05\n",
      "\n",
      "Epoch 00014: LearningRateScheduler reducing learning rate to 1.6710886400000004e-05.\n",
      "Epoch 14/100\n",
      "24/24 [==============================] - ETA: 0s - loss: 0.0646 - auc: 0.9964 - accuracy: 0.9740\n",
      "Epoch 00014: val_loss did not improve from 0.05173\n",
      "24/24 [==============================] - 2s 98ms/step - loss: 0.0646 - auc: 0.9964 - accuracy: 0.9740 - val_loss: 0.1765 - val_auc: 0.9770 - val_accuracy: 0.9362 - lr: 1.6711e-05\n",
      "\n",
      "Epoch 00015: LearningRateScheduler reducing learning rate to 1.5368709120000003e-05.\n",
      "Epoch 15/100\n",
      "24/24 [==============================] - ETA: 0s - loss: 0.0836 - auc: 0.9943 - accuracy: 0.9661\n",
      "Epoch 00015: val_loss did not improve from 0.05173\n",
      "24/24 [==============================] - 2s 93ms/step - loss: 0.0836 - auc: 0.9943 - accuracy: 0.9661 - val_loss: 0.1022 - val_auc: 0.9863 - val_accuracy: 0.9792 - lr: 1.5369e-05\n",
      "\n",
      "Epoch 00016: LearningRateScheduler reducing learning rate to 1.4294967296000005e-05.\n",
      "Epoch 16/100\n",
      "23/24 [===========================>..] - ETA: 0s - loss: 0.0469 - auc: 0.9987 - accuracy: 0.9864\n",
      "Epoch 00016: val_loss did not improve from 0.05173\n",
      "24/24 [==============================] - 2s 93ms/step - loss: 0.0458 - auc: 0.9988 - accuracy: 0.9868 - val_loss: 0.0893 - val_auc: 0.9906 - val_accuracy: 0.9792 - lr: 1.4295e-05\n",
      "\n",
      "Epoch 00017: LearningRateScheduler reducing learning rate to 1.3435973836800004e-05.\n",
      "Epoch 17/100\n",
      "24/24 [==============================] - ETA: 0s - loss: 0.0463 - auc: 0.9981 - accuracy: 0.9870\n",
      "Epoch 00017: val_loss improved from 0.05173 to 0.03342, saving model to saver/v3_mobilenet.h5\n",
      "24/24 [==============================] - 3s 108ms/step - loss: 0.0463 - auc: 0.9981 - accuracy: 0.9870 - val_loss: 0.0334 - val_auc: 0.9995 - val_accuracy: 0.9896 - lr: 1.3436e-05\n",
      "\n",
      "Epoch 00018: LearningRateScheduler reducing learning rate to 1.2748779069440003e-05.\n",
      "Epoch 18/100\n",
      "24/24 [==============================] - ETA: 0s - loss: 0.0269 - auc: 0.9998 - accuracy: 0.9922\n",
      "Epoch 00018: val_loss did not improve from 0.03342\n",
      "24/24 [==============================] - 2s 97ms/step - loss: 0.0269 - auc: 0.9998 - accuracy: 0.9922 - val_loss: 0.0728 - val_auc: 0.9971 - val_accuracy: 0.9688 - lr: 1.2749e-05\n",
      "\n",
      "Epoch 00019: LearningRateScheduler reducing learning rate to 1.2199023255552003e-05.\n",
      "Epoch 19/100\n",
      "24/24 [==============================] - ETA: 0s - loss: 0.0839 - auc: 0.9916 - accuracy: 0.9766\n",
      "Epoch 00019: val_loss did not improve from 0.03342\n",
      "24/24 [==============================] - 2s 96ms/step - loss: 0.0839 - auc: 0.9916 - accuracy: 0.9766 - val_loss: 0.1101 - val_auc: 0.9876 - val_accuracy: 0.9688 - lr: 1.2199e-05\n",
      "\n",
      "Epoch 00020: LearningRateScheduler reducing learning rate to 1.1759218604441602e-05.\n",
      "Epoch 20/100\n",
      "24/24 [==============================] - ETA: 0s - loss: 0.0462 - auc: 0.9975 - accuracy: 0.9870\n",
      "Epoch 00020: val_loss did not improve from 0.03342\n",
      "24/24 [==============================] - 2s 102ms/step - loss: 0.0462 - auc: 0.9975 - accuracy: 0.9870 - val_loss: 0.0340 - val_auc: 1.0000 - val_accuracy: 1.0000 - lr: 1.1759e-05\n",
      "\n",
      "Epoch 00021: LearningRateScheduler reducing learning rate to 1.1407374883553282e-05.\n",
      "Epoch 21/100\n",
      "24/24 [==============================] - ETA: 0s - loss: 0.0607 - auc: 0.9962 - accuracy: 0.9792\n",
      "Epoch 00021: val_loss did not improve from 0.03342\n",
      "24/24 [==============================] - 2s 95ms/step - loss: 0.0607 - auc: 0.9962 - accuracy: 0.9792 - val_loss: 0.0383 - val_auc: 0.9984 - val_accuracy: 0.9894 - lr: 1.1407e-05\n",
      "\n",
      "Epoch 00022: LearningRateScheduler reducing learning rate to 1.1125899906842627e-05.\n",
      "Epoch 22/100\n",
      "24/24 [==============================] - ETA: 0s - loss: 0.0734 - auc: 0.9957 - accuracy: 0.9714\n",
      "Epoch 00022: val_loss did not improve from 0.03342\n",
      "24/24 [==============================] - 2s 93ms/step - loss: 0.0734 - auc: 0.9957 - accuracy: 0.9714 - val_loss: 0.0568 - val_auc: 0.9972 - val_accuracy: 0.9792 - lr: 1.1126e-05\n",
      "\n",
      "Epoch 00023: LearningRateScheduler reducing learning rate to 1.0900719925474101e-05.\n",
      "Epoch 23/100\n",
      "24/24 [==============================] - ETA: 0s - loss: 0.0390 - auc: 0.9986 - accuracy: 0.9844\n",
      "Epoch 00023: val_loss did not improve from 0.03342\n",
      "24/24 [==============================] - 2s 99ms/step - loss: 0.0390 - auc: 0.9986 - accuracy: 0.9844 - val_loss: 0.0750 - val_auc: 0.9895 - val_accuracy: 0.9896 - lr: 1.0901e-05\n"
     ]
    },
    {
     "name": "stdout",
     "output_type": "stream",
     "text": [
      "\n",
      "Epoch 00024: LearningRateScheduler reducing learning rate to 1.0720575940379282e-05.\n",
      "Epoch 24/100\n",
      "23/24 [===========================>..] - ETA: 0s - loss: 0.0642 - auc: 0.9962 - accuracy: 0.9755\n",
      "Epoch 00024: val_loss did not improve from 0.03342\n",
      "24/24 [==============================] - 3s 106ms/step - loss: 0.0663 - auc: 0.9961 - accuracy: 0.9736 - val_loss: 0.0682 - val_auc: 0.9964 - val_accuracy: 0.9792 - lr: 1.0721e-05\n",
      "\n",
      "Epoch 00025: LearningRateScheduler reducing learning rate to 1.0576460752303425e-05.\n",
      "Epoch 25/100\n",
      "24/24 [==============================] - ETA: 0s - loss: 0.0438 - auc: 0.9982 - accuracy: 0.9844\n",
      "Epoch 00025: val_loss improved from 0.03342 to 0.02228, saving model to saver/v3_mobilenet.h5\n",
      "24/24 [==============================] - 3s 108ms/step - loss: 0.0438 - auc: 0.9982 - accuracy: 0.9844 - val_loss: 0.0223 - val_auc: 0.9998 - val_accuracy: 0.9896 - lr: 1.0576e-05\n",
      "\n",
      "Epoch 00026: LearningRateScheduler reducing learning rate to 1.046116860184274e-05.\n",
      "Epoch 26/100\n",
      "24/24 [==============================] - ETA: 0s - loss: 0.0363 - auc: 0.9991 - accuracy: 0.9896 ETA: 0s - loss: 0.0338 - auc: 0.9993 \n",
      "Epoch 00026: val_loss did not improve from 0.02228\n",
      "24/24 [==============================] - 2s 104ms/step - loss: 0.0363 - auc: 0.9991 - accuracy: 0.9896 - val_loss: 0.0394 - val_auc: 0.9991 - val_accuracy: 0.9896 - lr: 1.0461e-05\n",
      "\n",
      "Epoch 00027: LearningRateScheduler reducing learning rate to 1.0368934881474192e-05.\n",
      "Epoch 27/100\n",
      "24/24 [==============================] - ETA: 0s - loss: 0.0529 - auc: 0.9976 - accuracy: 0.9740\n",
      "Epoch 00027: val_loss did not improve from 0.02228\n",
      "24/24 [==============================] - 2s 103ms/step - loss: 0.0529 - auc: 0.9976 - accuracy: 0.9740 - val_loss: 0.0326 - val_auc: 0.9994 - val_accuracy: 0.9896 - lr: 1.0369e-05\n",
      "\n",
      "Epoch 00028: LearningRateScheduler reducing learning rate to 1.0295147905179355e-05.\n",
      "Epoch 28/100\n",
      "24/24 [==============================] - ETA: 0s - loss: 0.0329 - auc: 0.9988 - accuracy: 0.9896\n",
      "Epoch 00028: val_loss did not improve from 0.02228\n",
      "24/24 [==============================] - 3s 128ms/step - loss: 0.0329 - auc: 0.9988 - accuracy: 0.9896 - val_loss: 0.0554 - val_auc: 0.9955 - val_accuracy: 0.9894 - lr: 1.0295e-05\n",
      "\n",
      "Epoch 00029: LearningRateScheduler reducing learning rate to 1.0236118324143484e-05.\n",
      "Epoch 29/100\n",
      "24/24 [==============================] - ETA: 0s - loss: 0.0675 - auc: 0.9955 - accuracy: 0.9661\n",
      "Epoch 00029: val_loss improved from 0.02228 to 0.02081, saving model to saver/v3_mobilenet.h5\n",
      "24/24 [==============================] - 2s 103ms/step - loss: 0.0675 - auc: 0.9955 - accuracy: 0.9661 - val_loss: 0.0208 - val_auc: 0.9995 - val_accuracy: 0.9896 - lr: 1.0236e-05\n",
      "\n",
      "Epoch 00030: LearningRateScheduler reducing learning rate to 1.0188894659314786e-05.\n",
      "Epoch 30/100\n",
      "24/24 [==============================] - ETA: 0s - loss: 0.0389 - auc: 0.9988 - accuracy: 0.9948\n",
      "Epoch 00030: val_loss did not improve from 0.02081\n",
      "24/24 [==============================] - 3s 134ms/step - loss: 0.0389 - auc: 0.9988 - accuracy: 0.9948 - val_loss: 0.0566 - val_auc: 0.9963 - val_accuracy: 0.9896 - lr: 1.0189e-05\n",
      "\n",
      "Epoch 00031: LearningRateScheduler reducing learning rate to 1.015111572745183e-05.\n",
      "Epoch 31/100\n",
      "24/24 [==============================] - ETA: 0s - loss: 0.0261 - auc: 0.9993 - accuracy: 0.9896\n",
      "Epoch 00031: val_loss did not improve from 0.02081\n",
      "24/24 [==============================] - 3s 115ms/step - loss: 0.0261 - auc: 0.9993 - accuracy: 0.9896 - val_loss: 0.0251 - val_auc: 0.9993 - val_accuracy: 0.9896 - lr: 1.0151e-05\n",
      "\n",
      "Epoch 00032: LearningRateScheduler reducing learning rate to 1.0120892581961464e-05.\n",
      "Epoch 32/100\n",
      "23/24 [===========================>..] - ETA: 0s - loss: 0.0338 - auc: 0.9990 - accuracy: 0.9918\n",
      "Epoch 00032: val_loss did not improve from 0.02081\n",
      "24/24 [==============================] - 3s 106ms/step - loss: 0.0467 - auc: 0.9970 - accuracy: 0.9868 - val_loss: 0.0413 - val_auc: 0.9983 - val_accuracy: 0.9896 - lr: 1.0121e-05\n",
      "\n",
      "Epoch 00033: LearningRateScheduler reducing learning rate to 1.009671406556917e-05.\n",
      "Epoch 33/100\n",
      "24/24 [==============================] - ETA: 0s - loss: 0.0377 - auc: 0.9988 - accuracy: 0.9844\n",
      "Epoch 00033: val_loss did not improve from 0.02081\n",
      "24/24 [==============================] - 3s 110ms/step - loss: 0.0377 - auc: 0.9988 - accuracy: 0.9844 - val_loss: 0.0561 - val_auc: 0.9975 - val_accuracy: 0.9896 - lr: 1.0097e-05\n",
      "\n",
      "Epoch 00034: LearningRateScheduler reducing learning rate to 1.0077371252455338e-05.\n",
      "Epoch 34/100\n",
      "24/24 [==============================] - ETA: 0s - loss: 0.0473 - auc: 0.9981 - accuracy: 0.9818\n",
      "Epoch 00034: val_loss did not improve from 0.02081\n",
      "24/24 [==============================] - 2s 90ms/step - loss: 0.0473 - auc: 0.9981 - accuracy: 0.9818 - val_loss: 0.0374 - val_auc: 0.9991 - val_accuracy: 0.9896 - lr: 1.0077e-05\n",
      "\n",
      "Epoch 00035: LearningRateScheduler reducing learning rate to 1.006189700196427e-05.\n",
      "Epoch 35/100\n",
      "24/24 [==============================] - ETA: 0s - loss: 0.0290 - auc: 0.9994 - accuracy: 0.9922\n",
      "Epoch 00035: val_loss did not improve from 0.02081\n",
      "24/24 [==============================] - 3s 104ms/step - loss: 0.0290 - auc: 0.9994 - accuracy: 0.9922 - val_loss: 0.0219 - val_auc: 0.9998 - val_accuracy: 0.9894 - lr: 1.0062e-05\n",
      "\n",
      "Epoch 00036: LearningRateScheduler reducing learning rate to 1.0049517601571416e-05.\n",
      "Epoch 36/100\n",
      "24/24 [==============================] - ETA: 0s - loss: 0.0273 - auc: 0.9993 - accuracy: 0.9922\n",
      "Epoch 00036: val_loss did not improve from 0.02081\n",
      "24/24 [==============================] - 3s 118ms/step - loss: 0.0273 - auc: 0.9993 - accuracy: 0.9922 - val_loss: 0.0267 - val_auc: 0.9993 - val_accuracy: 1.0000 - lr: 1.0050e-05\n",
      "\n",
      "Epoch 00037: LearningRateScheduler reducing learning rate to 1.0039614081257132e-05.\n",
      "Epoch 37/100\n",
      "24/24 [==============================] - ETA: 0s - loss: 0.0295 - auc: 0.9994 - accuracy: 0.9896\n",
      "Epoch 00037: val_loss did not improve from 0.02081\n",
      "24/24 [==============================] - 3s 107ms/step - loss: 0.0295 - auc: 0.9994 - accuracy: 0.9896 - val_loss: 0.0514 - val_auc: 0.9982 - val_accuracy: 0.9792 - lr: 1.0040e-05\n",
      "\n",
      "Epoch 00038: LearningRateScheduler reducing learning rate to 1.0031691265005707e-05.\n",
      "Epoch 38/100\n",
      "24/24 [==============================] - ETA: 0s - loss: 0.0193 - auc: 0.9997 - accuracy: 0.9974\n",
      "Epoch 00038: val_loss improved from 0.02081 to 0.00813, saving model to saver/v3_mobilenet.h5\n",
      "24/24 [==============================] - 2s 101ms/step - loss: 0.0193 - auc: 0.9997 - accuracy: 0.9974 - val_loss: 0.0081 - val_auc: 0.9999 - val_accuracy: 1.0000 - lr: 1.0032e-05\n",
      "\n",
      "Epoch 00039: LearningRateScheduler reducing learning rate to 1.0025353012004565e-05.\n",
      "Epoch 39/100\n",
      "24/24 [==============================] - ETA: 0s - loss: 0.0823 - auc: 0.9934 - accuracy: 0.9740\n",
      "Epoch 00039: val_loss did not improve from 0.00813\n",
      "24/24 [==============================] - 2s 97ms/step - loss: 0.0823 - auc: 0.9934 - accuracy: 0.9740 - val_loss: 0.0647 - val_auc: 0.9980 - val_accuracy: 0.9688 - lr: 1.0025e-05\n",
      "\n",
      "Epoch 00040: LearningRateScheduler reducing learning rate to 1.0020282409603653e-05.\n",
      "Epoch 40/100\n",
      "23/24 [===========================>..] - ETA: 0s - loss: 0.0331 - auc: 0.9989 - accuracy: 0.9864\n",
      "Epoch 00040: val_loss did not improve from 0.00813\n",
      "24/24 [==============================] - 2s 89ms/step - loss: 0.0426 - auc: 0.9980 - accuracy: 0.9815 - val_loss: 0.0629 - val_auc: 0.9935 - val_accuracy: 0.9896 - lr: 1.0020e-05\n",
      "\n",
      "Epoch 00041: LearningRateScheduler reducing learning rate to 1.0016225927682922e-05.\n",
      "Epoch 41/100\n",
      "24/24 [==============================] - ETA: 0s - loss: 0.0562 - auc: 0.9966 - accuracy: 0.9844\n",
      "Epoch 00041: val_loss did not improve from 0.00813\n",
      "24/24 [==============================] - 3s 106ms/step - loss: 0.0562 - auc: 0.9966 - accuracy: 0.9844 - val_loss: 0.0139 - val_auc: 0.9998 - val_accuracy: 1.0000 - lr: 1.0016e-05\n",
      "\n",
      "Epoch 00042: LearningRateScheduler reducing learning rate to 1.0012980742146337e-05.\n",
      "Epoch 42/100\n",
      "24/24 [==============================] - ETA: 0s - loss: 0.0240 - auc: 0.9996 - accuracy: 0.9948\n",
      "Epoch 00042: val_loss did not improve from 0.00813\n",
      "24/24 [==============================] - 3s 114ms/step - loss: 0.0240 - auc: 0.9996 - accuracy: 0.9948 - val_loss: 0.0141 - val_auc: 1.0000 - val_accuracy: 1.0000 - lr: 1.0013e-05\n"
     ]
    },
    {
     "name": "stdout",
     "output_type": "stream",
     "text": [
      "\n",
      "Epoch 00043: LearningRateScheduler reducing learning rate to 1.0010384593717071e-05.\n",
      "Epoch 43/100\n",
      "24/24 [==============================] - ETA: 0s - loss: 0.0368 - auc: 0.9975 - accuracy: 0.9844\n",
      "Epoch 00043: val_loss did not improve from 0.00813\n",
      "24/24 [==============================] - 2s 100ms/step - loss: 0.0368 - auc: 0.9975 - accuracy: 0.9844 - val_loss: 0.0191 - val_auc: 0.9998 - val_accuracy: 0.9896 - lr: 1.0010e-05\n",
      "\n",
      "Epoch 00044: LearningRateScheduler reducing learning rate to 1.0008307674973657e-05.\n",
      "Epoch 44/100\n",
      "24/24 [==============================] - ETA: 0s - loss: 0.0248 - auc: 0.9994 - accuracy: 0.9922\n",
      "Epoch 00044: val_loss did not improve from 0.00813\n",
      "24/24 [==============================] - 2s 89ms/step - loss: 0.0248 - auc: 0.9994 - accuracy: 0.9922 - val_loss: 0.0379 - val_auc: 0.9983 - val_accuracy: 0.9792 - lr: 1.0008e-05\n",
      "\n",
      "Epoch 00045: LearningRateScheduler reducing learning rate to 1.0006646139978926e-05.\n",
      "Epoch 45/100\n",
      "24/24 [==============================] - ETA: 0s - loss: 0.0344 - auc: 0.9988 - accuracy: 0.9896\n",
      "Epoch 00045: val_loss did not improve from 0.00813\n",
      "24/24 [==============================] - 2s 104ms/step - loss: 0.0344 - auc: 0.9988 - accuracy: 0.9896 - val_loss: 0.0132 - val_auc: 1.0000 - val_accuracy: 1.0000 - lr: 1.0007e-05\n",
      "\n",
      "Epoch 00046: LearningRateScheduler reducing learning rate to 1.000531691198314e-05.\n",
      "Epoch 46/100\n",
      "24/24 [==============================] - ETA: 0s - loss: 0.0375 - auc: 0.9975 - accuracy: 0.9844\n",
      "Epoch 00046: val_loss did not improve from 0.00813\n",
      "24/24 [==============================] - 3s 107ms/step - loss: 0.0375 - auc: 0.9975 - accuracy: 0.9844 - val_loss: 0.0447 - val_auc: 0.9983 - val_accuracy: 0.9896 - lr: 1.0005e-05\n",
      "\n",
      "Epoch 00047: LearningRateScheduler reducing learning rate to 1.0004253529586513e-05.\n",
      "Epoch 47/100\n",
      "24/24 [==============================] - ETA: 0s - loss: 0.0352 - auc: 0.9990 - accuracy: 0.9818\n",
      "Epoch 00047: val_loss did not improve from 0.00813\n",
      "24/24 [==============================] - 2s 89ms/step - loss: 0.0352 - auc: 0.9990 - accuracy: 0.9818 - val_loss: 0.0522 - val_auc: 0.9942 - val_accuracy: 0.9896 - lr: 1.0004e-05\n",
      "\n",
      "Epoch 00048: LearningRateScheduler reducing learning rate to 1.000340282366921e-05.\n",
      "Epoch 48/100\n",
      "23/24 [===========================>..] - ETA: 0s - loss: 0.0158 - auc: 0.9997 - accuracy: 0.9973\n",
      "Epoch 00048: val_loss did not improve from 0.00813\n",
      "24/24 [==============================] - 2s 94ms/step - loss: 0.0353 - auc: 0.9982 - accuracy: 0.9921 - val_loss: 0.0142 - val_auc: 1.0000 - val_accuracy: 1.0000 - lr: 1.0003e-05\n",
      "\n",
      "Epoch 00049: LearningRateScheduler reducing learning rate to 1.0002722258935368e-05.\n",
      "Epoch 49/100\n",
      "24/24 [==============================] - ETA: 0s - loss: 0.0231 - auc: 0.9995 - accuracy: 0.9922\n",
      "Epoch 00049: val_loss did not improve from 0.00813\n",
      "24/24 [==============================] - 2s 96ms/step - loss: 0.0231 - auc: 0.9995 - accuracy: 0.9922 - val_loss: 0.0129 - val_auc: 0.9998 - val_accuracy: 0.9896 - lr: 1.0003e-05\n",
      "\n",
      "Epoch 00050: LearningRateScheduler reducing learning rate to 1.0002177807148294e-05.\n",
      "Epoch 50/100\n",
      "24/24 [==============================] - ETA: 0s - loss: 0.0551 - auc: 0.9957 - accuracy: 0.9844\n",
      "Epoch 00050: val_loss did not improve from 0.00813\n",
      "24/24 [==============================] - 2s 89ms/step - loss: 0.0551 - auc: 0.9957 - accuracy: 0.9844 - val_loss: 0.0532 - val_auc: 0.9932 - val_accuracy: 0.9896 - lr: 1.0002e-05\n",
      "\n",
      "Epoch 00051: LearningRateScheduler reducing learning rate to 1.0001742245718636e-05.\n",
      "Epoch 51/100\n",
      "24/24 [==============================] - ETA: 0s - loss: 0.0216 - auc: 0.9996 - accuracy: 0.9922\n",
      "Epoch 00051: val_loss did not improve from 0.00813\n",
      "24/24 [==============================] - 2s 94ms/step - loss: 0.0216 - auc: 0.9996 - accuracy: 0.9922 - val_loss: 0.0126 - val_auc: 1.0000 - val_accuracy: 1.0000 - lr: 1.0002e-05\n",
      "\n",
      "Epoch 00052: LearningRateScheduler reducing learning rate to 1.000139379657491e-05.\n",
      "Epoch 52/100\n",
      "24/24 [==============================] - ETA: 0s - loss: 0.0610 - auc: 0.9954 - accuracy: 0.9766 ETA: 1s - loss: 0.0\n",
      "Epoch 00052: val_loss did not improve from 0.00813\n",
      "24/24 [==============================] - 2s 96ms/step - loss: 0.0610 - auc: 0.9954 - accuracy: 0.9766 - val_loss: 0.0091 - val_auc: 1.0000 - val_accuracy: 1.0000 - lr: 1.0001e-05\n",
      "\n",
      "Epoch 00053: LearningRateScheduler reducing learning rate to 1.0001115037259927e-05.\n",
      "Epoch 53/100\n",
      "24/24 [==============================] - ETA: 0s - loss: 0.0192 - auc: 0.9996 - accuracy: 0.9948\n",
      "Epoch 00053: val_loss did not improve from 0.00813\n",
      "24/24 [==============================] - 3s 109ms/step - loss: 0.0192 - auc: 0.9996 - accuracy: 0.9948 - val_loss: 0.0164 - val_auc: 0.9999 - val_accuracy: 1.0000 - lr: 1.0001e-05\n",
      "\n",
      "Epoch 00054: LearningRateScheduler reducing learning rate to 1.0000892029807942e-05.\n",
      "Epoch 54/100\n",
      "24/24 [==============================] - ETA: 0s - loss: 0.0229 - auc: 0.9994 - accuracy: 0.9896\n",
      "Epoch 00054: val_loss did not improve from 0.00813\n",
      "24/24 [==============================] - 3s 107ms/step - loss: 0.0229 - auc: 0.9994 - accuracy: 0.9896 - val_loss: 0.0138 - val_auc: 0.9998 - val_accuracy: 1.0000 - lr: 1.0001e-05\n",
      "\n",
      "Epoch 00055: LearningRateScheduler reducing learning rate to 1.0000713623846353e-05.\n",
      "Epoch 55/100\n",
      "24/24 [==============================] - ETA: 0s - loss: 0.0576 - auc: 0.9964 - accuracy: 0.9844\n",
      "Epoch 00055: val_loss did not improve from 0.00813\n",
      "24/24 [==============================] - 2s 94ms/step - loss: 0.0576 - auc: 0.9964 - accuracy: 0.9844 - val_loss: 0.0098 - val_auc: 1.0000 - val_accuracy: 1.0000 - lr: 1.0001e-05\n",
      "\n",
      "Epoch 00056: LearningRateScheduler reducing learning rate to 1.0000570899077083e-05.\n",
      "Epoch 56/100\n",
      "23/24 [===========================>..] - ETA: 0s - loss: 0.0251 - auc: 0.9995 - accuracy: 0.9891\n",
      "Epoch 00056: val_loss did not improve from 0.00813\n",
      "24/24 [==============================] - 2s 92ms/step - loss: 0.0244 - auc: 0.9995 - accuracy: 0.9894 - val_loss: 0.0278 - val_auc: 0.9997 - val_accuracy: 0.9896 - lr: 1.0001e-05\n",
      "\n",
      "Epoch 00057: LearningRateScheduler reducing learning rate to 1.0000456719261668e-05.\n",
      "Epoch 57/100\n",
      "24/24 [==============================] - ETA: 0s - loss: 0.0171 - auc: 0.9998 - accuracy: 0.9974\n",
      "Epoch 00057: val_loss did not improve from 0.00813\n",
      "24/24 [==============================] - 2s 94ms/step - loss: 0.0171 - auc: 0.9998 - accuracy: 0.9974 - val_loss: 0.0251 - val_auc: 0.9992 - val_accuracy: 0.9896 - lr: 1.0000e-05\n",
      "\n",
      "Epoch 00058: LearningRateScheduler reducing learning rate to 1.0000365375409333e-05.\n",
      "Epoch 58/100\n",
      "24/24 [==============================] - ETA: 0s - loss: 0.0380 - auc: 0.9976 - accuracy: 0.9870\n",
      "Epoch 00058: val_loss improved from 0.00813 to 0.00119, saving model to saver/v3_mobilenet.h5\n",
      "24/24 [==============================] - 3s 108ms/step - loss: 0.0380 - auc: 0.9976 - accuracy: 0.9870 - val_loss: 0.0012 - val_auc: 1.0000 - val_accuracy: 1.0000 - lr: 1.0000e-05\n",
      "\n",
      "Epoch 00059: LearningRateScheduler reducing learning rate to 1.0000292300327467e-05.\n",
      "Epoch 59/100\n",
      "24/24 [==============================] - ETA: 0s - loss: 0.0264 - auc: 0.9994 - accuracy: 0.9896\n",
      "Epoch 00059: val_loss did not improve from 0.00119\n",
      "24/24 [==============================] - 2s 99ms/step - loss: 0.0264 - auc: 0.9994 - accuracy: 0.9896 - val_loss: 0.0078 - val_auc: 1.0000 - val_accuracy: 1.0000 - lr: 1.0000e-05\n",
      "\n",
      "Epoch 00060: LearningRateScheduler reducing learning rate to 1.0000233840261974e-05.\n",
      "Epoch 60/100\n",
      "24/24 [==============================] - ETA: 0s - loss: 0.0223 - auc: 0.9995 - accuracy: 0.9922\n",
      "Epoch 00060: val_loss did not improve from 0.00119\n",
      "24/24 [==============================] - 2s 97ms/step - loss: 0.0223 - auc: 0.9995 - accuracy: 0.9922 - val_loss: 0.0193 - val_auc: 0.9996 - val_accuracy: 1.0000 - lr: 1.0000e-05\n",
      "\n",
      "Epoch 00061: LearningRateScheduler reducing learning rate to 1.000018707220958e-05.\n",
      "Epoch 61/100\n",
      "24/24 [==============================] - ETA: 0s - loss: 0.0193 - auc: 0.9995 - accuracy: 0.9922\n",
      "Epoch 00061: val_loss did not improve from 0.00119\n",
      "24/24 [==============================] - 2s 87ms/step - loss: 0.0193 - auc: 0.9995 - accuracy: 0.9922 - val_loss: 0.0036 - val_auc: 1.0000 - val_accuracy: 1.0000 - lr: 1.0000e-05\n",
      "\n",
      "Epoch 00062: LearningRateScheduler reducing learning rate to 1.0000149657767664e-05.\n",
      "Epoch 62/100\n"
     ]
    },
    {
     "name": "stdout",
     "output_type": "stream",
     "text": [
      "24/24 [==============================] - ETA: 0s - loss: 0.0088 - auc: 0.9999 - accuracy: 0.9948\n",
      "Epoch 00062: val_loss did not improve from 0.00119\n",
      "24/24 [==============================] - 2s 85ms/step - loss: 0.0088 - auc: 0.9999 - accuracy: 0.9948 - val_loss: 0.0052 - val_auc: 1.0000 - val_accuracy: 1.0000 - lr: 1.0000e-05\n",
      "\n",
      "Epoch 00063: LearningRateScheduler reducing learning rate to 1.000011972621413e-05.\n",
      "Epoch 63/100\n",
      "24/24 [==============================] - ETA: 0s - loss: 0.0121 - auc: 0.9999 - accuracy: 1.0000\n",
      "Epoch 00063: val_loss did not improve from 0.00119\n",
      "24/24 [==============================] - 2s 87ms/step - loss: 0.0121 - auc: 0.9999 - accuracy: 1.0000 - val_loss: 0.0038 - val_auc: 1.0000 - val_accuracy: 1.0000 - lr: 1.0000e-05\n",
      "\n",
      "Epoch 00064: LearningRateScheduler reducing learning rate to 1.0000095780971305e-05.\n",
      "Epoch 64/100\n",
      "24/24 [==============================] - ETA: 0s - loss: 0.0198 - auc: 0.9997 - accuracy: 0.9947\n",
      "Epoch 00064: val_loss did not improve from 0.00119\n",
      "24/24 [==============================] - 2s 96ms/step - loss: 0.0198 - auc: 0.9997 - accuracy: 0.9947 - val_loss: 0.0033 - val_auc: 1.0000 - val_accuracy: 1.0000 - lr: 1.0000e-05\n",
      "\n",
      "Epoch 00065: LearningRateScheduler reducing learning rate to 1.0000076624777044e-05.\n",
      "Epoch 65/100\n",
      "24/24 [==============================] - ETA: 0s - loss: 0.0264 - auc: 0.9995 - accuracy: 0.9922\n",
      "Epoch 00065: val_loss did not improve from 0.00119\n",
      "24/24 [==============================] - 3s 105ms/step - loss: 0.0264 - auc: 0.9995 - accuracy: 0.9922 - val_loss: 0.0081 - val_auc: 1.0000 - val_accuracy: 1.0000 - lr: 1.0000e-05\n",
      "\n",
      "Epoch 00066: LearningRateScheduler reducing learning rate to 1.0000061299821636e-05.\n",
      "Epoch 66/100\n",
      "24/24 [==============================] - ETA: 0s - loss: 0.0181 - auc: 0.9996 - accuracy: 0.9948\n",
      "Epoch 00066: val_loss did not improve from 0.00119\n",
      "24/24 [==============================] - 3s 105ms/step - loss: 0.0181 - auc: 0.9996 - accuracy: 0.9948 - val_loss: 0.0178 - val_auc: 0.9997 - val_accuracy: 0.9896 - lr: 1.0000e-05\n",
      "\n",
      "Epoch 00067: LearningRateScheduler reducing learning rate to 1.0000049039857308e-05.\n",
      "Epoch 67/100\n",
      "24/24 [==============================] - ETA: 0s - loss: 0.0363 - auc: 0.9976 - accuracy: 0.9922\n",
      "Epoch 00067: val_loss did not improve from 0.00119\n",
      "24/24 [==============================] - 2s 98ms/step - loss: 0.0363 - auc: 0.9976 - accuracy: 0.9922 - val_loss: 0.0279 - val_auc: 0.9995 - val_accuracy: 0.9896 - lr: 1.0000e-05\n",
      "\n",
      "Epoch 00068: LearningRateScheduler reducing learning rate to 1.0000039231885846e-05.\n",
      "Epoch 68/100\n",
      "24/24 [==============================] - ETA: 0s - loss: 0.0282 - auc: 0.9981 - accuracy: 0.9922\n",
      "Epoch 00068: val_loss did not improve from 0.00119\n",
      "24/24 [==============================] - 3s 106ms/step - loss: 0.0282 - auc: 0.9981 - accuracy: 0.9922 - val_loss: 0.0038 - val_auc: 1.0000 - val_accuracy: 1.0000 - lr: 1.0000e-05\n",
      "\n",
      "Epoch 00069: LearningRateScheduler reducing learning rate to 1.0000031385508678e-05.\n",
      "Epoch 69/100\n",
      "24/24 [==============================] - ETA: 0s - loss: 0.0064 - auc: 1.0000 - accuracy: 1.0000\n",
      "Epoch 00069: val_loss did not improve from 0.00119\n",
      "24/24 [==============================] - 2s 97ms/step - loss: 0.0064 - auc: 1.0000 - accuracy: 1.0000 - val_loss: 0.0093 - val_auc: 1.0000 - val_accuracy: 1.0000 - lr: 1.0000e-05\n",
      "\n",
      "Epoch 00070: LearningRateScheduler reducing learning rate to 1.0000025108406942e-05.\n",
      "Epoch 70/100\n",
      "24/24 [==============================] - ETA: 0s - loss: 0.0251 - auc: 0.9992 - accuracy: 0.9948\n",
      "Epoch 00070: val_loss did not improve from 0.00119\n",
      "24/24 [==============================] - 2s 88ms/step - loss: 0.0251 - auc: 0.9992 - accuracy: 0.9948 - val_loss: 0.0012 - val_auc: 1.0000 - val_accuracy: 1.0000 - lr: 1.0000e-05\n",
      "\n",
      "Epoch 00071: LearningRateScheduler reducing learning rate to 1.0000020086725554e-05.\n",
      "Epoch 71/100\n",
      "24/24 [==============================] - ETA: 0s - loss: 0.0141 - auc: 0.9998 - accuracy: 1.0000\n",
      "Epoch 00071: val_loss did not improve from 0.00119\n",
      "24/24 [==============================] - 2s 90ms/step - loss: 0.0141 - auc: 0.9998 - accuracy: 1.0000 - val_loss: 0.0058 - val_auc: 1.0000 - val_accuracy: 1.0000 - lr: 1.0000e-05\n",
      "\n",
      "Epoch 00072: LearningRateScheduler reducing learning rate to 1.0000016069380443e-05.\n",
      "Epoch 72/100\n",
      "23/24 [===========================>..] - ETA: 0s - loss: 0.0322 - auc: 0.9990 - accuracy: 0.9864\n",
      "Epoch 00072: val_loss did not improve from 0.00119\n",
      "24/24 [==============================] - 2s 87ms/step - loss: 0.0315 - auc: 0.9990 - accuracy: 0.9868 - val_loss: 0.0149 - val_auc: 0.9999 - val_accuracy: 1.0000 - lr: 1.0000e-05\n",
      "\n",
      "Epoch 00073: LearningRateScheduler reducing learning rate to 1.0000012855504354e-05.\n",
      "Epoch 73/100\n",
      "24/24 [==============================] - ETA: 0s - loss: 0.0165 - auc: 0.9998 - accuracy: 0.9948\n",
      "Epoch 00073: val_loss did not improve from 0.00119\n",
      "24/24 [==============================] - 2s 84ms/step - loss: 0.0165 - auc: 0.9998 - accuracy: 0.9948 - val_loss: 0.0022 - val_auc: 1.0000 - val_accuracy: 1.0000 - lr: 1.0000e-05\n",
      "\n",
      "Epoch 00074: LearningRateScheduler reducing learning rate to 1.0000010284403484e-05.\n",
      "Epoch 74/100\n",
      "24/24 [==============================] - ETA: 0s - loss: 0.0303 - auc: 0.9990 - accuracy: 0.9896\n",
      "Epoch 00074: val_loss did not improve from 0.00119\n",
      "24/24 [==============================] - 2s 88ms/step - loss: 0.0303 - auc: 0.9990 - accuracy: 0.9896 - val_loss: 0.0141 - val_auc: 0.9999 - val_accuracy: 0.9896 - lr: 1.0000e-05\n",
      "\n",
      "Epoch 00075: LearningRateScheduler reducing learning rate to 1.0000008227522788e-05.\n",
      "Epoch 75/100\n",
      "24/24 [==============================] - ETA: 0s - loss: 0.0112 - auc: 0.9999 - accuracy: 0.9974\n",
      "Epoch 00075: val_loss did not improve from 0.00119\n",
      "24/24 [==============================] - 2s 95ms/step - loss: 0.0112 - auc: 0.9999 - accuracy: 0.9974 - val_loss: 0.0017 - val_auc: 1.0000 - val_accuracy: 1.0000 - lr: 1.0000e-05\n",
      "\n",
      "Epoch 00076: LearningRateScheduler reducing learning rate to 1.000000658201823e-05.\n",
      "Epoch 76/100\n",
      "24/24 [==============================] - ETA: 0s - loss: 0.0174 - auc: 0.9995 - accuracy: 0.9948\n",
      "Epoch 00076: val_loss did not improve from 0.00119\n",
      "24/24 [==============================] - 2s 101ms/step - loss: 0.0174 - auc: 0.9995 - accuracy: 0.9948 - val_loss: 0.0023 - val_auc: 1.0000 - val_accuracy: 1.0000 - lr: 1.0000e-05\n",
      "\n",
      "Epoch 00077: LearningRateScheduler reducing learning rate to 1.0000005265614585e-05.\n",
      "Epoch 77/100\n",
      "24/24 [==============================] - ETA: 0s - loss: 0.0166 - auc: 0.9998 - accuracy: 0.9948\n",
      "Epoch 00077: val_loss did not improve from 0.00119\n",
      "24/24 [==============================] - 2s 96ms/step - loss: 0.0166 - auc: 0.9998 - accuracy: 0.9948 - val_loss: 0.0135 - val_auc: 0.9998 - val_accuracy: 0.9896 - lr: 1.0000e-05\n",
      "\n",
      "Epoch 00078: LearningRateScheduler reducing learning rate to 1.0000004212491667e-05.\n",
      "Epoch 78/100\n",
      "24/24 [==============================] - ETA: 0s - loss: 0.0058 - auc: 1.0000 - accuracy: 1.0000\n",
      "Epoch 00078: val_loss did not improve from 0.00119\n",
      "24/24 [==============================] - 2s 85ms/step - loss: 0.0058 - auc: 1.0000 - accuracy: 1.0000 - val_loss: 0.0036 - val_auc: 1.0000 - val_accuracy: 1.0000 - lr: 1.0000e-05\n",
      "\n",
      "Epoch 00079: LearningRateScheduler reducing learning rate to 1.0000003369993335e-05.\n",
      "Epoch 79/100\n",
      "24/24 [==============================] - ETA: 0s - loss: 0.0164 - auc: 0.9997 - accuracy: 0.9948\n",
      "Epoch 00079: val_loss did not improve from 0.00119\n",
      "24/24 [==============================] - 2s 92ms/step - loss: 0.0164 - auc: 0.9997 - accuracy: 0.9948 - val_loss: 0.0017 - val_auc: 1.0000 - val_accuracy: 1.0000 - lr: 1.0000e-05\n",
      "\n",
      "Epoch 00080: LearningRateScheduler reducing learning rate to 1.0000002695994668e-05.\n",
      "Epoch 80/100\n",
      "23/24 [===========================>..] - ETA: 0s - loss: 0.0456 - auc: 0.9963 - accuracy: 0.9864\n",
      "Epoch 00080: val_loss did not improve from 0.00119\n",
      "24/24 [==============================] - 2s 91ms/step - loss: 0.0443 - auc: 0.9964 - accuracy: 0.9868 - val_loss: 0.0034 - val_auc: 1.0000 - val_accuracy: 1.0000 - lr: 1.0000e-05\n",
      "\n",
      "Epoch 00081: LearningRateScheduler reducing learning rate to 1.0000002156795734e-05.\n",
      "Epoch 81/100\n",
      "24/24 [==============================] - ETA: 0s - loss: 0.0175 - auc: 0.9996 - accuracy: 0.9974\n",
      "Epoch 00081: val_loss did not improve from 0.00119\n",
      "24/24 [==============================] - 2s 93ms/step - loss: 0.0175 - auc: 0.9996 - accuracy: 0.9974 - val_loss: 0.0091 - val_auc: 1.0000 - val_accuracy: 1.0000 - lr: 1.0000e-05\n"
     ]
    },
    {
     "name": "stdout",
     "output_type": "stream",
     "text": [
      "\n",
      "Epoch 00082: LearningRateScheduler reducing learning rate to 1.0000001725436587e-05.\n",
      "Epoch 82/100\n",
      "24/24 [==============================] - ETA: 0s - loss: 0.0215 - auc: 0.9995 - accuracy: 0.9896 ETA: 1s - loss: 0.0\n",
      "Epoch 00082: val_loss did not improve from 0.00119\n",
      "24/24 [==============================] - 2s 87ms/step - loss: 0.0215 - auc: 0.9995 - accuracy: 0.9896 - val_loss: 0.0014 - val_auc: 1.0000 - val_accuracy: 1.0000 - lr: 1.0000e-05\n",
      "\n",
      "Epoch 00083: LearningRateScheduler reducing learning rate to 1.0000001380349271e-05.\n",
      "Epoch 83/100\n",
      "24/24 [==============================] - ETA: 0s - loss: 0.0327 - auc: 0.9989 - accuracy: 0.9870\n",
      "Epoch 00083: val_loss did not improve from 0.00119\n",
      "24/24 [==============================] - 2s 91ms/step - loss: 0.0327 - auc: 0.9989 - accuracy: 0.9870 - val_loss: 0.0076 - val_auc: 1.0000 - val_accuracy: 1.0000 - lr: 1.0000e-05\n",
      "\n",
      "Epoch 00084: LearningRateScheduler reducing learning rate to 1.0000001104279416e-05.\n",
      "Epoch 84/100\n",
      "24/24 [==============================] - ETA: 0s - loss: 0.0295 - auc: 0.9988 - accuracy: 0.9922\n",
      "Epoch 00084: val_loss did not improve from 0.00119\n",
      "24/24 [==============================] - 2s 100ms/step - loss: 0.0295 - auc: 0.9988 - accuracy: 0.9922 - val_loss: 0.0047 - val_auc: 1.0000 - val_accuracy: 1.0000 - lr: 1.0000e-05\n",
      "\n",
      "Epoch 00085: LearningRateScheduler reducing learning rate to 1.0000000883423533e-05.\n",
      "Epoch 85/100\n",
      "24/24 [==============================] - ETA: 0s - loss: 0.0164 - auc: 0.9997 - accuracy: 0.9948\n",
      "Epoch 00085: val_loss did not improve from 0.00119\n",
      "24/24 [==============================] - 2s 85ms/step - loss: 0.0164 - auc: 0.9997 - accuracy: 0.9948 - val_loss: 0.0035 - val_auc: 1.0000 - val_accuracy: 1.0000 - lr: 1.0000e-05\n",
      "\n",
      "Epoch 00086: LearningRateScheduler reducing learning rate to 1.0000000706738827e-05.\n",
      "Epoch 86/100\n",
      "24/24 [==============================] - ETA: 0s - loss: 0.0331 - auc: 0.9978 - accuracy: 0.9870\n",
      "Epoch 00086: val_loss did not improve from 0.00119\n",
      "24/24 [==============================] - 2s 86ms/step - loss: 0.0331 - auc: 0.9978 - accuracy: 0.9870 - val_loss: 0.0026 - val_auc: 1.0000 - val_accuracy: 1.0000 - lr: 1.0000e-05\n",
      "\n",
      "Epoch 00087: LearningRateScheduler reducing learning rate to 1.0000000565391061e-05.\n",
      "Epoch 87/100\n",
      "24/24 [==============================] - ETA: 0s - loss: 0.0099 - auc: 0.9999 - accuracy: 1.0000\n",
      "Epoch 00087: val_loss did not improve from 0.00119\n",
      "24/24 [==============================] - 2s 91ms/step - loss: 0.0099 - auc: 0.9999 - accuracy: 1.0000 - val_loss: 0.0044 - val_auc: 1.0000 - val_accuracy: 1.0000 - lr: 1.0000e-05\n",
      "\n",
      "Epoch 00088: LearningRateScheduler reducing learning rate to 1.0000000452312849e-05.\n",
      "Epoch 88/100\n",
      "23/24 [===========================>..] - ETA: 0s - loss: 0.0354 - auc: 0.9976 - accuracy: 0.9946\n",
      "Epoch 00088: val_loss did not improve from 0.00119\n",
      "24/24 [==============================] - 2s 93ms/step - loss: 0.0347 - auc: 0.9976 - accuracy: 0.9947 - val_loss: 0.0027 - val_auc: 1.0000 - val_accuracy: 1.0000 - lr: 1.0000e-05\n",
      "\n",
      "Epoch 00089: LearningRateScheduler reducing learning rate to 1.000000036185028e-05.\n",
      "Epoch 89/100\n",
      "24/24 [==============================] - ETA: 0s - loss: 0.0171 - auc: 0.9998 - accuracy: 0.9974\n",
      "Epoch 00089: val_loss did not improve from 0.00119\n",
      "24/24 [==============================] - 2s 94ms/step - loss: 0.0171 - auc: 0.9998 - accuracy: 0.9974 - val_loss: 0.0021 - val_auc: 1.0000 - val_accuracy: 1.0000 - lr: 1.0000e-05\n",
      "\n",
      "Epoch 00090: LearningRateScheduler reducing learning rate to 1.0000000289480224e-05.\n",
      "Epoch 90/100\n",
      "24/24 [==============================] - ETA: 0s - loss: 0.0180 - auc: 0.9985 - accuracy: 0.9974\n",
      "Epoch 00090: val_loss did not improve from 0.00119\n",
      "24/24 [==============================] - 2s 93ms/step - loss: 0.0180 - auc: 0.9985 - accuracy: 0.9974 - val_loss: 0.0146 - val_auc: 0.9997 - val_accuracy: 0.9894 - lr: 1.0000e-05\n",
      "\n",
      "Epoch 00091: LearningRateScheduler reducing learning rate to 1.0000000231584179e-05.\n",
      "Epoch 91/100\n",
      "24/24 [==============================] - ETA: 0s - loss: 0.0123 - auc: 0.9999 - accuracy: 0.9974\n",
      "Epoch 00091: val_loss did not improve from 0.00119\n",
      "24/24 [==============================] - 2s 91ms/step - loss: 0.0123 - auc: 0.9999 - accuracy: 0.9974 - val_loss: 0.0016 - val_auc: 1.0000 - val_accuracy: 1.0000 - lr: 1.0000e-05\n",
      "\n",
      "Epoch 00092: LearningRateScheduler reducing learning rate to 1.0000000185267343e-05.\n",
      "Epoch 92/100\n",
      "24/24 [==============================] - ETA: 0s - loss: 0.0369 - auc: 0.9976 - accuracy: 0.9896\n",
      "Epoch 00092: val_loss did not improve from 0.00119\n",
      "24/24 [==============================] - 2s 87ms/step - loss: 0.0369 - auc: 0.9976 - accuracy: 0.9896 - val_loss: 0.0015 - val_auc: 1.0000 - val_accuracy: 1.0000 - lr: 1.0000e-05\n",
      "\n",
      "Epoch 00093: LearningRateScheduler reducing learning rate to 1.0000000148213875e-05.\n",
      "Epoch 93/100\n",
      "24/24 [==============================] - ETA: 0s - loss: 0.0080 - auc: 0.9999 - accuracy: 0.9974\n",
      "Epoch 00093: val_loss did not improve from 0.00119\n",
      "24/24 [==============================] - 2s 92ms/step - loss: 0.0080 - auc: 0.9999 - accuracy: 0.9974 - val_loss: 0.0146 - val_auc: 0.9997 - val_accuracy: 1.0000 - lr: 1.0000e-05\n",
      "\n",
      "Epoch 00094: LearningRateScheduler reducing learning rate to 1.00000001185711e-05.\n",
      "Epoch 94/100\n",
      "24/24 [==============================] - ETA: 0s - loss: 0.0133 - auc: 0.9998 - accuracy: 0.9948\n",
      "Epoch 00094: val_loss did not improve from 0.00119\n",
      "24/24 [==============================] - 2s 87ms/step - loss: 0.0133 - auc: 0.9998 - accuracy: 0.9948 - val_loss: 0.0035 - val_auc: 1.0000 - val_accuracy: 1.0000 - lr: 1.0000e-05\n",
      "\n",
      "Epoch 00095: LearningRateScheduler reducing learning rate to 1.0000000094856881e-05.\n",
      "Epoch 95/100\n",
      "24/24 [==============================] - ETA: 0s - loss: 0.0110 - auc: 0.9999 - accuracy: 0.9974\n",
      "Epoch 00095: val_loss did not improve from 0.00119\n",
      "24/24 [==============================] - 2s 97ms/step - loss: 0.0110 - auc: 0.9999 - accuracy: 0.9974 - val_loss: 0.0036 - val_auc: 1.0000 - val_accuracy: 1.0000 - lr: 1.0000e-05\n",
      "\n",
      "Epoch 00096: LearningRateScheduler reducing learning rate to 1.0000000075885505e-05.\n",
      "Epoch 96/100\n",
      "23/24 [===========================>..] - ETA: 0s - loss: 0.0362 - auc: 0.9977 - accuracy: 0.9918\n",
      "Epoch 00096: val_loss did not improve from 0.00119\n",
      "24/24 [==============================] - 2s 89ms/step - loss: 0.0353 - auc: 0.9977 - accuracy: 0.9921 - val_loss: 0.0018 - val_auc: 1.0000 - val_accuracy: 1.0000 - lr: 1.0000e-05\n",
      "\n",
      "Epoch 00097: LearningRateScheduler reducing learning rate to 1.0000000060708404e-05.\n",
      "Epoch 97/100\n",
      "24/24 [==============================] - ETA: 0s - loss: 0.0151 - auc: 0.9998 - accuracy: 0.9974\n",
      "Epoch 00097: val_loss improved from 0.00119 to 0.00068, saving model to saver/v3_mobilenet.h5\n",
      "24/24 [==============================] - 2s 96ms/step - loss: 0.0151 - auc: 0.9998 - accuracy: 0.9974 - val_loss: 6.7856e-04 - val_auc: 1.0000 - val_accuracy: 1.0000 - lr: 1.0000e-05\n",
      "\n",
      "Epoch 00098: LearningRateScheduler reducing learning rate to 1.0000000048566724e-05.\n",
      "Epoch 98/100\n",
      "24/24 [==============================] - ETA: 0s - loss: 0.0137 - auc: 0.9997 - accuracy: 0.9974\n",
      "Epoch 00098: val_loss did not improve from 0.00068\n",
      "24/24 [==============================] - 2s 91ms/step - loss: 0.0137 - auc: 0.9997 - accuracy: 0.9974 - val_loss: 0.0182 - val_auc: 0.9996 - val_accuracy: 0.9896 - lr: 1.0000e-05\n",
      "\n",
      "Epoch 00099: LearningRateScheduler reducing learning rate to 1.0000000038853378e-05.\n",
      "Epoch 99/100\n",
      "24/24 [==============================] - ETA: 0s - loss: 0.0190 - auc: 0.9996 - accuracy: 0.9896\n",
      "Epoch 00099: val_loss did not improve from 0.00068\n",
      "24/24 [==============================] - 2s 84ms/step - loss: 0.0190 - auc: 0.9996 - accuracy: 0.9896 - val_loss: 0.0141 - val_auc: 0.9999 - val_accuracy: 1.0000 - lr: 1.0000e-05\n",
      "\n",
      "Epoch 00100: LearningRateScheduler reducing learning rate to 1.0000000031082703e-05.\n",
      "Epoch 100/100\n",
      "24/24 [==============================] - ETA: 0s - loss: 0.0218 - auc: 0.9983 - accuracy: 0.9922\n",
      "Epoch 00100: val_loss did not improve from 0.00068\n",
      "24/24 [==============================] - 2s 84ms/step - loss: 0.0218 - auc: 0.9983 - accuracy: 0.9922 - val_loss: 0.0127 - val_auc: 0.9999 - val_accuracy: 0.9896 - lr: 1.0000e-05\n"
     ]
    }
   ],
   "source": [
    "history = model.fit(train,\n",
    "                    steps_per_epoch= steps_per_epoch_train,\n",
    "                    epochs= EPOCHS,\n",
    "                    validation_data= val ,\n",
    "                    validation_steps= steps_per_epoch_val,\n",
    "                    callbacks=[lr_schedule, callbacks])"
   ]
  },
  {
   "cell_type": "code",
   "execution_count": 12,
   "metadata": {},
   "outputs": [],
   "source": [
    "x_test = val[0][0]\n",
    "y_test = val[0][1]\n",
    "y_test = np.argmax(y_test,axis=1).reshape(-1,1)"
   ]
  },
  {
   "cell_type": "code",
   "execution_count": 13,
   "metadata": {
    "tags": []
   },
   "outputs": [
    {
     "name": "stdout",
     "output_type": "stream",
     "text": [
      "WARNING:tensorflow:AutoGraph could not transform <function Model.make_predict_function.<locals>.predict_function at 0x000001D769AB64C8> and will run it as-is.\n",
      "Please report this to the TensorFlow team. When filing the bug, set the verbosity to 10 (on Linux, `export AUTOGRAPH_VERBOSITY=10`) and attach the full output.\n",
      "Cause: Bad argument number for Name: 4, expecting 3\n",
      "To silence this warning, decorate the function with @tf.autograph.experimental.do_not_convert\n",
      "WARNING: AutoGraph could not transform <function Model.make_predict_function.<locals>.predict_function at 0x000001D769AB64C8> and will run it as-is.\n",
      "Please report this to the TensorFlow team. When filing the bug, set the verbosity to 10 (on Linux, `export AUTOGRAPH_VERBOSITY=10`) and attach the full output.\n",
      "Cause: Bad argument number for Name: 4, expecting 3\n",
      "To silence this warning, decorate the function with @tf.autograph.experimental.do_not_convert\n"
     ]
    }
   ],
   "source": [
    "y_pred = model.predict(x_test)"
   ]
  },
  {
   "cell_type": "markdown",
   "metadata": {},
   "source": [
    "Determining Theshold is some times important, we can not simply go with 50-50 chances"
   ]
  },
  {
   "cell_type": "code",
   "execution_count": 14,
   "metadata": {},
   "outputs": [
    {
     "data": {
      "text/plain": [
       "(16, 128, 128, 3)"
      ]
     },
     "execution_count": 14,
     "metadata": {},
     "output_type": "execute_result"
    }
   ],
   "source": [
    "x_test.shape"
   ]
  },
  {
   "cell_type": "code",
   "execution_count": 15,
   "metadata": {},
   "outputs": [],
   "source": [
    "def threshold(threshold, prediction):\n",
    "    # if the prediction is confident then only it is categorized as class 1\n",
    "    for i in range(len(prediction)):\n",
    "        if prediction[i] > threshold:\n",
    "            prediction[i] = 1\n",
    "        else:\n",
    "            prediction[i] = 0\n",
    "    return prediction\n"
   ]
  },
  {
   "cell_type": "code",
   "execution_count": 16,
   "metadata": {},
   "outputs": [],
   "source": [
    "y_pred = np.argmax(y_pred,axis=1).reshape(-1,1)"
   ]
  },
  {
   "cell_type": "markdown",
   "metadata": {},
   "source": [
    "Here is a confusion matrix for a batch of validation_data"
   ]
  },
  {
   "cell_type": "code",
   "execution_count": 19,
   "metadata": {},
   "outputs": [
    {
     "data": {
      "text/plain": [
       "(16, 1)"
      ]
     },
     "execution_count": 19,
     "metadata": {},
     "output_type": "execute_result"
    }
   ],
   "source": [
    "y_pred.shape"
   ]
  },
  {
   "cell_type": "code",
   "execution_count": 20,
   "metadata": {
    "scrolled": true
   },
   "outputs": [
    {
     "data": {
      "text/plain": [
       "<matplotlib.axes._subplots.AxesSubplot at 0x1d76c345448>"
      ]
     },
     "execution_count": 20,
     "metadata": {},
     "output_type": "execute_result"
    },
    {
     "data": {
      "image/png": "[encoded data removed]",
      "text/plain": [
       "<Figure size 432x288 with 2 Axes>"
      ]
     },
     "metadata": {
      "needs_background": "light"
     },
     "output_type": "display_data"
    }
   ],
   "source": [
    "cm = confusion_matrix(y_test,y_pred)\n",
    "\n",
    "sns.heatmap(cm)"
   ]
  },
  {
   "cell_type": "markdown",
   "metadata": {},
   "source": [
    "Saving the model Architecture in .json format"
   ]
  },
  {
   "cell_type": "code",
   "execution_count": 21,
   "metadata": {},
   "outputs": [],
   "source": [
    "model_json = model.to_json()\n",
    "\n",
    "with open('saver/v2_mobilenet.json','w') as json_file:\n",
    "\n",
    "    json_file.write(model_json)"
   ]
  }
 ],
 "metadata": {
  "kernelspec": {
   "display_name": "gputest",
   "language": "python",
   "name": "gputest"
  },
  "language_info": {
   "codemirror_mode": {
    "name": "ipython",
    "version": 3
   },
   "file_extension": ".py",
   "mimetype": "text/x-python",
   "name": "python",
   "nbconvert_exporter": "python",
   "pygments_lexer": "ipython3",
   "version": "3.7.7"
  }
 },
 "nbformat": 4,
 "nbformat_minor": 2
}
